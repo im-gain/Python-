{
  "nbformat": 4,
  "nbformat_minor": 0,
  "metadata": {
    "colab": {
      "provenance": [],
      "toc_visible": true,
      "authorship_tag": "ABX9TyNvZBus6Utw5cj2N3HxwpQu",
      "include_colab_link": true
    },
    "kernelspec": {
      "name": "python3",
      "display_name": "Python 3"
    },
    "language_info": {
      "name": "python"
    }
  },
  "cells": [
    {
      "cell_type": "markdown",
      "metadata": {
        "id": "view-in-github",
        "colab_type": "text"
      },
      "source": [
        "<a href=\"https://colab.research.google.com/github/im-gain/Python-/blob/main/colab_practice.ipynb\" target=\"_parent\"><img src=\"https://colab.research.google.com/assets/colab-badge.svg\" alt=\"Open In Colab\"/></a>"
      ]
    },
    {
      "cell_type": "markdown",
      "source": [
        "# Pythpn Practice"
      ],
      "metadata": {
        "id": "Yr0IjaAMARNU"
      }
    },
    {
      "cell_type": "markdown",
      "source": [
        "## Python 기초 문법 일단 따라해보기"
      ],
      "metadata": {
        "id": "gV0rrg5D-I65"
      }
    },
    {
      "cell_type": "markdown",
      "source": [
        "##### **사칙연산**\n",
        "\n",
        "- 더하기( + ), 빼기( - )"
      ],
      "metadata": {
        "id": "LJB5E2Ff-Qp3"
      }
    },
    {
      "cell_type": "code",
      "source": [
        "# 코드를 입력해 주세요\n",
        "1 + 3"
      ],
      "metadata": {
        "colab": {
          "base_uri": "https://localhost:8080/"
        },
        "id": "6hqcS_QT-Zdq",
        "outputId": "e4598ea0-6b8e-447d-e079-7fd1f1447d7c"
      },
      "execution_count": null,
      "outputs": [
        {
          "output_type": "execute_result",
          "data": {
            "text/plain": [
              "4"
            ]
          },
          "metadata": {},
          "execution_count": 4
        }
      ]
    },
    {
      "cell_type": "code",
      "source": [
        "1 - 3"
      ],
      "metadata": {
        "colab": {
          "base_uri": "https://localhost:8080/"
        },
        "id": "Yme3yuRbAm1i",
        "outputId": "679ba606-b3df-4d8c-9022-880fa7e77521"
      },
      "execution_count": null,
      "outputs": [
        {
          "output_type": "execute_result",
          "data": {
            "text/plain": [
              "-2"
            ]
          },
          "metadata": {},
          "execution_count": 5
        }
      ]
    },
    {
      "cell_type": "markdown",
      "source": [
        "- 나눗셈( / ) 과 곱셈( * )"
      ],
      "metadata": {
        "id": "993R42OQBGi4"
      }
    },
    {
      "cell_type": "code",
      "source": [
        "# 코드를 입력해 주세요\n",
        "3 / 6"
      ],
      "metadata": {
        "colab": {
          "base_uri": "https://localhost:8080/"
        },
        "id": "5PuBIP0KBNv3",
        "outputId": "d5cee581-e981-4b80-d789-5eaaad2a7703"
      },
      "execution_count": null,
      "outputs": [
        {
          "output_type": "execute_result",
          "data": {
            "text/plain": [
              "0.5"
            ]
          },
          "metadata": {},
          "execution_count": 7
        }
      ]
    },
    {
      "cell_type": "code",
      "source": [
        "3 * 6"
      ],
      "metadata": {
        "colab": {
          "base_uri": "https://localhost:8080/"
        },
        "id": "1dYAt2pABR0t",
        "outputId": "36010b33-f1aa-471d-d866-21e8c3b6a3c8"
      },
      "execution_count": null,
      "outputs": [
        {
          "output_type": "execute_result",
          "data": {
            "text/plain": [
              "18"
            ]
          },
          "metadata": {},
          "execution_count": 8
        }
      ]
    },
    {
      "cell_type": "markdown",
      "source": [
        "#### **몫과 나머지**\n",
        "- 목( / / ) 과 나머지 ( % ) "
      ],
      "metadata": {
        "id": "i3D1u9g_Bidz"
      }
    },
    {
      "cell_type": "code",
      "source": [
        "# 코드를 입력해 주세요\n",
        "10 // 3 "
      ],
      "metadata": {
        "colab": {
          "base_uri": "https://localhost:8080/"
        },
        "id": "PSGZeIuuBy_D",
        "outputId": "5d88a1e4-6f3a-4361-d367-e736cc886f9c"
      },
      "execution_count": null,
      "outputs": [
        {
          "output_type": "execute_result",
          "data": {
            "text/plain": [
              "3"
            ]
          },
          "metadata": {},
          "execution_count": 12
        }
      ]
    },
    {
      "cell_type": "code",
      "source": [
        "1238716487461//3"
      ],
      "metadata": {
        "colab": {
          "base_uri": "https://localhost:8080/"
        },
        "id": "l2Q2GitaB5ij",
        "outputId": "c6d60f6a-1b62-45f1-94d4-f5d3b4cb08ba"
      },
      "execution_count": null,
      "outputs": [
        {
          "output_type": "execute_result",
          "data": {
            "text/plain": [
              "412905495820"
            ]
          },
          "metadata": {},
          "execution_count": 10
        }
      ]
    },
    {
      "cell_type": "code",
      "source": [
        "10 % 3"
      ],
      "metadata": {
        "colab": {
          "base_uri": "https://localhost:8080/"
        },
        "id": "BX5ds7aQB9re",
        "outputId": "10ffc8ea-84f5-4f83-a27e-5e2fdfb80c01"
      },
      "execution_count": null,
      "outputs": [
        {
          "output_type": "execute_result",
          "data": {
            "text/plain": [
              "1"
            ]
          },
          "metadata": {},
          "execution_count": 11
        }
      ]
    },
    {
      "cell_type": "markdown",
      "source": [
        "- 몫, 나머지 한번에 구하기(divmod)"
      ],
      "metadata": {
        "id": "s1ogatDCCH6O"
      }
    },
    {
      "cell_type": "code",
      "source": [
        "# 코드를 입력해 주세요\n",
        "divmod(10, 3)"
      ],
      "metadata": {
        "colab": {
          "base_uri": "https://localhost:8080/"
        },
        "id": "KZ6TdOVECPp9",
        "outputId": "3e46d3e3-5cdd-4aff-f5a9-f20523727166"
      },
      "execution_count": null,
      "outputs": [
        {
          "output_type": "execute_result",
          "data": {
            "text/plain": [
              "(3, 1)"
            ]
          },
          "metadata": {},
          "execution_count": 13
        }
      ]
    },
    {
      "cell_type": "code",
      "source": [
        "result =  divmod(10, 3)"
      ],
      "metadata": {
        "id": "JwG7OIemCeNo"
      },
      "execution_count": null,
      "outputs": []
    },
    {
      "cell_type": "code",
      "source": [
        "result[0]"
      ],
      "metadata": {
        "colab": {
          "base_uri": "https://localhost:8080/"
        },
        "id": "5jXrVxdLComF",
        "outputId": "42ded1d1-006d-4b3d-bdec-1ee3c7e8c84d"
      },
      "execution_count": null,
      "outputs": [
        {
          "output_type": "execute_result",
          "data": {
            "text/plain": [
              "3"
            ]
          },
          "metadata": {},
          "execution_count": 15
        }
      ]
    },
    {
      "cell_type": "code",
      "source": [
        "result[1]"
      ],
      "metadata": {
        "colab": {
          "base_uri": "https://localhost:8080/"
        },
        "id": "UNx1FPkdC6vt",
        "outputId": "126ecce4-9a9b-41ef-9198-5ea0fca7ae3e"
      },
      "execution_count": null,
      "outputs": [
        {
          "output_type": "execute_result",
          "data": {
            "text/plain": [
              "1"
            ]
          },
          "metadata": {},
          "execution_count": 16
        }
      ]
    },
    {
      "cell_type": "markdown",
      "source": [
        "#### **거듭 제곱**\n",
        "- ** 를 사용한 거듭 제곱"
      ],
      "metadata": {
        "id": "S5IiMOoNDCkK"
      }
    },
    {
      "cell_type": "code",
      "source": [
        "# 코드를 입력해 주세요\n",
        "2 ** 2"
      ],
      "metadata": {
        "colab": {
          "base_uri": "https://localhost:8080/"
        },
        "id": "-gYp6CoBDLdo",
        "outputId": "91d45cee-eab4-49d7-9292-4c574fe8a700"
      },
      "execution_count": null,
      "outputs": [
        {
          "output_type": "execute_result",
          "data": {
            "text/plain": [
              "4"
            ]
          },
          "metadata": {},
          "execution_count": 18
        }
      ]
    },
    {
      "cell_type": "code",
      "source": [
        "2 ** 5"
      ],
      "metadata": {
        "colab": {
          "base_uri": "https://localhost:8080/"
        },
        "id": "cENFzNZyDWeA",
        "outputId": "9102de03-edee-4774-8974-d4df73650c1b"
      },
      "execution_count": null,
      "outputs": [
        {
          "output_type": "execute_result",
          "data": {
            "text/plain": [
              "32"
            ]
          },
          "metadata": {},
          "execution_count": 19
        }
      ]
    },
    {
      "cell_type": "markdown",
      "source": [
        "#### **input 함수와 print 함수**"
      ],
      "metadata": {
        "id": "6ndnE3zCDu3m"
      }
    },
    {
      "cell_type": "code",
      "source": [
        "# input 함수와 print 함수\n",
        "\n",
        "example = input(\"안녕하세요? 오늘 기분은 어떤가요?\")\n",
        "# example 출력\n",
        "print(example)\n",
        "# f-string을 사용한 출력\n",
        "print(f\"오늘 기분이 {example} 라고 답했습니다.\")\n",
        "print(\"오늘 기분이\" + example + \"라고 답했습니다.\")"
      ],
      "metadata": {
        "colab": {
          "base_uri": "https://localhost:8080/"
        },
        "id": "py_mkNjSD06M",
        "outputId": "384d097b-336c-45a8-945f-829237488e62"
      },
      "execution_count": null,
      "outputs": [
        {
          "output_type": "stream",
          "name": "stdout",
          "text": [
            "안녕하세요? 오늘 기분은 어떤가요?좋아요\n",
            "좋아요\n",
            "오늘 기분이 좋아요 라고 답했습니다.\n",
            "오늘 기분이좋아요라고 답했습니다.\n"
          ]
        }
      ]
    },
    {
      "cell_type": "markdown",
      "source": [
        "###**문자열 자료형**"
      ],
      "metadata": {
        "id": "TCWaqZc2F5Am"
      }
    },
    {
      "cell_type": "code",
      "source": [
        "# sample code 작성하기\n",
        "string = \"sookmyung\"\n",
        "print(string[0])"
      ],
      "metadata": {
        "colab": {
          "base_uri": "https://localhost:8080/"
        },
        "id": "P9qDK7eKELNc",
        "outputId": "7899873f-88de-481f-8a25-729e5c34374d"
      },
      "execution_count": null,
      "outputs": [
        {
          "output_type": "stream",
          "name": "stdout",
          "text": [
            "s\n"
          ]
        }
      ]
    },
    {
      "cell_type": "code",
      "source": [
        "print(string[0:4])"
      ],
      "metadata": {
        "colab": {
          "base_uri": "https://localhost:8080/"
        },
        "id": "olxS_T7OHzvP",
        "outputId": "e25b22c4-eac4-4419-faf8-601f7b1e9315"
      },
      "execution_count": null,
      "outputs": [
        {
          "output_type": "stream",
          "name": "stdout",
          "text": [
            "sook\n"
          ]
        }
      ]
    },
    {
      "cell_type": "code",
      "source": [],
      "metadata": {
        "id": "il5jj7UjH6Z2"
      },
      "execution_count": null,
      "outputs": []
    },
    {
      "cell_type": "markdown",
      "source": [
        "### **리스트 자료형**"
      ],
      "metadata": {
        "id": "q8WUe_coIQZD"
      }
    },
    {
      "cell_type": "code",
      "source": [
        "# sample code 작성하기 (주석처리,설명)\n",
        "# 코드코드코드// = (control과 슬레시/ 버튼을 누르면 주석처리 가능함)\n",
        "\n",
        "\n",
        "my_list = [1, 2, 3, \"hi!\", 4]\n",
        "print(my_list[3])"
      ],
      "metadata": {
        "colab": {
          "base_uri": "https://localhost:8080/"
        },
        "id": "lrkjV8RCITtB",
        "outputId": "82de22a1-367e-48d8-b1ac-e77d3e56d8ca"
      },
      "execution_count": null,
      "outputs": [
        {
          "output_type": "stream",
          "name": "stdout",
          "text": [
            "hi!\n"
          ]
        }
      ]
    },
    {
      "cell_type": "code",
      "source": [
        "print(my_list[0:4])"
      ],
      "metadata": {
        "colab": {
          "base_uri": "https://localhost:8080/"
        },
        "id": "s-PornRfJS3n",
        "outputId": "90a2bd01-e318-4e26-8836-8d1896e1f2fc"
      },
      "execution_count": null,
      "outputs": [
        {
          "output_type": "stream",
          "name": "stdout",
          "text": [
            "[1, 2, 3, 'hi!']\n"
          ]
        }
      ]
    },
    {
      "cell_type": "markdown",
      "source": [
        "### **튜플 자료형**"
      ],
      "metadata": {
        "id": "foC2GaIzJiBH"
      }
    },
    {
      "cell_type": "code",
      "source": [
        "# sample code 작성하기\n",
        "my_tuple = (1, 2, 'a', 'b')\n",
        "print(my_tuple[3])\n",
        "print(my_tuple[1:])  # 1:  아무것도 안적을 경우 나머지 값을 모두 출력해 달라는 의미임 (즉, 인덱스 1부터 나머지까지 모두 출력해 달라는 의미)"
      ],
      "metadata": {
        "colab": {
          "base_uri": "https://localhost:8080/"
        },
        "id": "hHSuTXcYJjsA",
        "outputId": "01594751-4472-4a01-d8cb-b05adf0c774f"
      },
      "execution_count": null,
      "outputs": [
        {
          "output_type": "stream",
          "name": "stdout",
          "text": [
            "b\n",
            "(2, 'a', 'b')\n"
          ]
        }
      ]
    },
    {
      "cell_type": "code",
      "source": [
        "print(my_tuple[1:3])"
      ],
      "metadata": {
        "colab": {
          "base_uri": "https://localhost:8080/"
        },
        "id": "3Lsq4qpOKKqh",
        "outputId": "6fcaa27a-c161-4630-c8ce-4913b97eaa93"
      },
      "execution_count": null,
      "outputs": [
        {
          "output_type": "stream",
          "name": "stdout",
          "text": [
            "(2, 'a')\n"
          ]
        }
      ]
    },
    {
      "cell_type": "markdown",
      "source": [
        "### **딕셔너리 자료형**"
      ],
      "metadata": {
        "id": "xL4d-mGJJoMR"
      }
    },
    {
      "cell_type": "code",
      "source": [
        "# sample code 작성하기\n",
        "my_dict = {'apple':500, 'banana':100, 'cat': 7000, 'dog': 6500, 'pencil': 100}\n",
        "print(my_dict['apple'])\n",
        "print(my_dict['cat'])"
      ],
      "metadata": {
        "colab": {
          "base_uri": "https://localhost:8080/"
        },
        "id": "--NXwqErJr0Z",
        "outputId": "12debf21-e862-4ded-f72e-260e1b08c51a"
      },
      "execution_count": null,
      "outputs": [
        {
          "output_type": "stream",
          "name": "stdout",
          "text": [
            "500\n",
            "7000\n"
          ]
        }
      ]
    },
    {
      "cell_type": "markdown",
      "source": [
        "## 미션1\n",
        "\n",
        "이름과 태어난 연도를 입력받아 나이와 함께 인사하는 코드 작성하기\n",
        "- 사용자에게 총 2번의 입력을 받아 각각 서로 다른 변수에 저장해주세요\n",
        " \n",
        " 이름(name), 태어난 해(born)\n",
        "- 이 변수 2개를 모두 활용해 나이(age)를 계산한 다음, 인사하는 프로그램을 작성해주세요. \n",
        " \n",
        " (예) 유재석님, 안녕하세요! 올해 51살이 되셨군요?"
      ],
      "metadata": {
        "id": "77P8LiXvMDjj"
      }
    },
    {
      "cell_type": "code",
      "source": [
        "name = input(\"당신의 이름은 무엇인가요?\")\n",
        "print(name)\n",
        "print(f\"제 이름은 {name} 입니다.\")\n",
        "\n",
        "born = input(\"당신이 태어난 해는 무엇인가요?\")\n",
        "print(born)\n",
        "print(f\"제가 태어난 해는 {born}년 입니다.\")\n",
        "\n",
        "print(\"=\" * 50)\n",
        "\n",
        "age = 2022 - int(born) + 1\n",
        "# input 함수를 입력할 때는 문자열로만 표시가 가능하기 때문에 정수와 문자읙 계산이 안됨. 따라서 문자열을 강제로 정수로 바꾸는 int()를 사용해야함\n",
        "print(f\"제 나이는 {age} 입니다.\")\n",
        "print(f\"{name}님, 안녕하세요! 올해 {age}살이 되셨군요?\")"
      ],
      "metadata": {
        "colab": {
          "base_uri": "https://localhost:8080/"
        },
        "id": "hAtc72opMhNG",
        "outputId": "e3aa23d7-413d-4920-914d-417d37266ff0"
      },
      "execution_count": null,
      "outputs": [
        {
          "output_type": "stream",
          "name": "stdout",
          "text": [
            "당신의 이름은 무엇인가요? 임가인\n",
            " 임가인\n",
            "제 이름은  임가인 입니다.\n",
            "당신이 태어난 해는 무엇인가요? 2003\n",
            " 2003\n",
            "제가 태어난 해는  2003년 입니다.\n",
            "==================================================\n",
            "제 나이는 20 입니다.\n",
            " 임가인님, 안녕하세요! 올해 20살이 되셨군요?\n"
          ]
        }
      ]
    },
    {
      "cell_type": "markdown",
      "source": [
        "### **If문**"
      ],
      "metadata": {
        "id": "abwO4zd7B4_0"
      }
    },
    {
      "cell_type": "code",
      "source": [
        "# sample code 작성하기\n",
        "password = \"sookmyung123\"  \n",
        "#회원가입을 할 때 아이디와 비밀번호를 저장, 그다음 로그인을 할 때 아이디를 입력하면 (딕셔너리를 통해 아이디가 key 값이 되고, password 가 value값이 되는 것) 따라서 로그인을 할 때 아이디와 비밀번호가 일치한다면, 로그인을 성공시키고, 일치 하지 않는다면 로그인 실패를 하는 것임!)\n",
        "my_input = input(\"PASSWORD를 입력하세요 : \")\n",
        "if password == my_input:\n",
        "  print(\"LOGIN 성공\")\n",
        "  # 비밀번호가 일치할 때 일어난일, :를 붙여줘야 if문이 끝났다는 의미이고 :을 누른뒤 enter를 누르면 두칸 들여쓰기가 됨 (만약 안됐다면 tab누르기)\n",
        "else: \n",
        "  print(\"LOGIN 실패\")\n",
        "  # 비밀번호가 일치하지 않을 때 일어나는 일  "
      ],
      "metadata": {
        "colab": {
          "base_uri": "https://localhost:8080/"
        },
        "id": "-u-BhnLSB_A7",
        "outputId": "a0b16cb6-d451-4428-99b7-4e0b9d6ee026"
      },
      "execution_count": null,
      "outputs": [
        {
          "output_type": "stream",
          "name": "stdout",
          "text": [
            "PASSWORD를 입력하세요 : sookmyung12\n",
            "LOGIN 실패\n"
          ]
        }
      ]
    },
    {
      "cell_type": "code",
      "source": [
        "age = int(input(\"당신의 나이를 알려주세요. ; \"))\n",
        "if age < 20:\n",
        "  print(\"20대 미만입니다.\")\n",
        "elif age <= 23:\n",
        "  print(\"20대 초반입니다.\")\n",
        "elif age <= 26:\n",
        "  print(\"20대 중반입니다.\")\n",
        "elif age <= 29:\n",
        "  print(\"20대 후반입니다.\")\n",
        "else:\n",
        "  print(\"30대 이상입니다.\")\n"
      ],
      "metadata": {
        "colab": {
          "base_uri": "https://localhost:8080/"
        },
        "id": "9uJBUebIFA-O",
        "outputId": "082ff7fd-2a6b-4d0b-e288-3bd9e6fb381e"
      },
      "execution_count": null,
      "outputs": [
        {
          "output_type": "stream",
          "name": "stdout",
          "text": [
            "당신의 나이를 알려주세요. ; 25\n",
            "20대 중반입니다.\n"
          ]
        }
      ]
    },
    {
      "cell_type": "markdown",
      "source": [
        "### **While문** (반복문)"
      ],
      "metadata": {
        "id": "_pBBE_cbIHdK"
      }
    },
    {
      "cell_type": "code",
      "source": [
        "#  sample code 작성하기\n",
        "num = 0\n",
        "while num < 5:\n",
        "  num = num + 1  # num 이라는 변수에 1을 더한 값을 덮어 씌운다\n",
        "  print(f\"num이 현재 {num} : Hello!\")"
      ],
      "metadata": {
        "colab": {
          "base_uri": "https://localhost:8080/"
        },
        "id": "WAYbmWogIOcS",
        "outputId": "c781191f-7054-445e-9543-1cc191910077"
      },
      "execution_count": null,
      "outputs": [
        {
          "output_type": "stream",
          "name": "stdout",
          "text": [
            "num이 현재 1 : Hello!\n",
            "num이 현재 2 : Hello!\n",
            "num이 현재 3 : Hello!\n",
            "num이 현재 4 : Hello!\n",
            "num이 현재 5 : Hello!\n"
          ]
        }
      ]
    },
    {
      "cell_type": "markdown",
      "source": [
        "###**For문**(반복문)"
      ],
      "metadata": {
        "id": "aDSsKoYUKnbS"
      }
    },
    {
      "cell_type": "code",
      "source": [
        "# sample code 작성하기\n",
        "numbers = ['one', 'two', 'three']\n",
        "for number in numbers:\n",
        "  print(number)"
      ],
      "metadata": {
        "colab": {
          "base_uri": "https://localhost:8080/"
        },
        "id": "YYPCGHtIKuc0",
        "outputId": "0debb02e-c53d-4957-8701-29fab126def2"
      },
      "execution_count": null,
      "outputs": [
        {
          "output_type": "stream",
          "name": "stdout",
          "text": [
            "one\n",
            "two\n",
            "three\n"
          ]
        }
      ]
    },
    {
      "cell_type": "code",
      "source": [
        "for i in range(10):\n",
        "  print(f'i는 현재 {i} : Hello~!')"
      ],
      "metadata": {
        "colab": {
          "base_uri": "https://localhost:8080/"
        },
        "id": "b-h8aXgALLNc",
        "outputId": "8874e53e-4d32-4fcd-88b8-78cb7be32519"
      },
      "execution_count": null,
      "outputs": [
        {
          "output_type": "stream",
          "name": "stdout",
          "text": [
            "i는 현재 0 : Hello~!\n",
            "i는 현재 1 : Hello~!\n",
            "i는 현재 2 : Hello~!\n",
            "i는 현재 3 : Hello~!\n",
            "i는 현재 4 : Hello~!\n",
            "i는 현재 5 : Hello~!\n",
            "i는 현재 6 : Hello~!\n",
            "i는 현재 7 : Hello~!\n",
            "i는 현재 8 : Hello~!\n",
            "i는 현재 9 : Hello~!\n"
          ]
        }
      ]
    },
    {
      "cell_type": "markdown",
      "source": [
        "##미션2\n",
        "\n",
        "몬스터 10마리를 잡으면 Level Up하는 프로그램 작성하기\n",
        "- 잡은 몬스터 수를 세는 변수에 초기값으로 0을 저장해주세요.\n",
        "- 반복문을 사용해서 몬스터를 잡을 때마다 1을 더해주세요.\n",
        "- 잡은 몬스터 수가 1마리 ~ 10마리일 때까지 현재 몬스터 수를 출력하고\n",
        "- 10마리가 되면 LEVEL UP!을 출력해주세요.\n",
        "- 몬스터를 잡으시겠습니까? Y/N 중 선택\n",
        "- Y를 입력하면 몬스터 수에 1을 더하고\n",
        "- N을 입력하면 몬스터 수에 1을 뺀다\n",
        "- 잡은 몬스터 수가 10이 되면 LEVEL UP!"
      ],
      "metadata": {
        "id": "Ne7CjPB6W-yu"
      }
    },
    {
      "cell_type": "code",
      "source": [
        "kill_count = 0\n",
        "\n",
        "while kill_count < 10 : #조건을 만족할 때 반복\n",
        "  answer = input(\"몬스터를 잡으시겠습니까? Y/N : \")\n",
        "  if answer in ['Y', 'N']: # asnwer가 Y와 N중 하나인지 아닌지를 구분\n",
        "    if answer == 'Y':\n",
        "      kill_count = kill_count + 1  # kill_count += 1 도 같은 의미임\n",
        "    else:\n",
        "      kill_count = kill_count - 1\n",
        "    print(f\"현재 몬스터 수는 {kill_count} 입니다.\")\n",
        "  else:\n",
        "    print('다시 입력하세요.')\n",
        "\n",
        "  if kill_count < 10 :\n",
        "    print('몬스터를 더 잡아야 합니다.')\n",
        "\n",
        "print('LEVEL UP!')"
      ],
      "metadata": {
        "colab": {
          "base_uri": "https://localhost:8080/"
        },
        "id": "Ht-4MbgBW_RW",
        "outputId": "cb30c91f-34d9-4bb4-d7ed-0bf80edfe5c5"
      },
      "execution_count": null,
      "outputs": [
        {
          "output_type": "stream",
          "name": "stdout",
          "text": [
            "몬스터를 잡으시겠습니까? Y/N : Y\n",
            "현재 몬스터 수는 1 입니다.\n",
            "몬스터를 더 잡아야 합니다.\n",
            "몬스터를 잡으시겠습니까? Y/N : \n",
            "다시 입력하세요.\n",
            "몬스터를 더 잡아야 합니다.\n",
            "몬스터를 잡으시겠습니까? Y/N : N\n",
            "현재 몬스터 수는 0 입니다.\n",
            "몬스터를 더 잡아야 합니다.\n",
            "몬스터를 잡으시겠습니까? Y/N : Y\n",
            "현재 몬스터 수는 1 입니다.\n",
            "몬스터를 더 잡아야 합니다.\n",
            "몬스터를 잡으시겠습니까? Y/N : Y\n",
            "현재 몬스터 수는 2 입니다.\n",
            "몬스터를 더 잡아야 합니다.\n",
            "몬스터를 잡으시겠습니까? Y/N : Y\n",
            "현재 몬스터 수는 3 입니다.\n",
            "몬스터를 더 잡아야 합니다.\n",
            "몬스터를 잡으시겠습니까? Y/N : Y\n",
            "현재 몬스터 수는 4 입니다.\n",
            "몬스터를 더 잡아야 합니다.\n",
            "몬스터를 잡으시겠습니까? Y/N : YY\n",
            "다시 입력하세요.\n",
            "몬스터를 더 잡아야 합니다.\n",
            "몬스터를 잡으시겠습니까? Y/N : Y\n",
            "현재 몬스터 수는 5 입니다.\n",
            "몬스터를 더 잡아야 합니다.\n",
            "몬스터를 잡으시겠습니까? Y/N : Y\n",
            "현재 몬스터 수는 6 입니다.\n",
            "몬스터를 더 잡아야 합니다.\n",
            "몬스터를 잡으시겠습니까? Y/N : Y\n",
            "현재 몬스터 수는 7 입니다.\n",
            "몬스터를 더 잡아야 합니다.\n",
            "몬스터를 잡으시겠습니까? Y/N : Y\n",
            "현재 몬스터 수는 8 입니다.\n",
            "몬스터를 더 잡아야 합니다.\n",
            "몬스터를 잡으시겠습니까? Y/N : Y\n",
            "현재 몬스터 수는 9 입니다.\n",
            "몬스터를 더 잡아야 합니다.\n",
            "몬스터를 잡으시겠습니까? Y/N : Y\n",
            "현재 몬스터 수는 10 입니다.\n",
            "LEVEL UP!\n"
          ]
        }
      ]
    },
    {
      "cell_type": "code",
      "source": [
        "killing = 0\n",
        "for a in range(20):\n",
        "  monster = input('몬스터를 잡으시겠습니까? Y/N :')\n",
        "  if monster in ['Y','N']:\n",
        "    if monster == 'Y':\n",
        "      killing += 1\n",
        "    else:\n",
        "      killing -= 1\n",
        "    print(f\"현재 몬스터 수: {killing} \")\n",
        "  else:\n",
        "    print(\"다시 입력하세요.\")\n",
        "  if killing == 10:\n",
        "    print('LEVEL UP!!')"
      ],
      "metadata": {
        "colab": {
          "base_uri": "https://localhost:8080/"
        },
        "id": "H9bFvn6SZhzJ",
        "outputId": "a9d1695c-71a7-45ce-86a5-e4be12806e5a"
      },
      "execution_count": null,
      "outputs": [
        {
          "output_type": "stream",
          "name": "stdout",
          "text": [
            "몬스터를 잡으시겠습니까? Y/N :Y\n",
            "현재 몬스터 수: 1 \n",
            "몬스터를 잡으시겠습니까? Y/N :N\n",
            "현재 몬스터 수: 0 \n",
            "몬스터를 잡으시겠습니까? Y/N :Y\n",
            "현재 몬스터 수: 1 \n",
            "몬스터를 잡으시겠습니까? Y/N :Q\n",
            "다시 입력하세요.\n",
            "몬스터를 잡으시겠습니까? Y/N :Y\n",
            "현재 몬스터 수: 2 \n",
            "몬스터를 잡으시겠습니까? Y/N :Y\n",
            "현재 몬스터 수: 3 \n",
            "몬스터를 잡으시겠습니까? Y/N :Y\n",
            "현재 몬스터 수: 4 \n",
            "몬스터를 잡으시겠습니까? Y/N :Y\n",
            "현재 몬스터 수: 5 \n",
            "몬스터를 잡으시겠습니까? Y/N :Y\n",
            "현재 몬스터 수: 6 \n",
            "몬스터를 잡으시겠습니까? Y/N :Y\n",
            "현재 몬스터 수: 7 \n",
            "몬스터를 잡으시겠습니까? Y/N :Y\n",
            "현재 몬스터 수: 8 \n",
            "몬스터를 잡으시겠습니까? Y/N :Y\n",
            "현재 몬스터 수: 9 \n",
            "몬스터를 잡으시겠습니까? Y/N :Y\n",
            "현재 몬스터 수: 10 \n",
            "LEVEL UP!!\n",
            "몬스터를 잡으시겠습니까? Y/N :Y\n",
            "현재 몬스터 수: 11 \n",
            "몬스터를 잡으시겠습니까? Y/N :Y\n",
            "현재 몬스터 수: 12 \n",
            "몬스터를 잡으시겠습니까? Y/N :N\n",
            "현재 몬스터 수: 11 \n",
            "몬스터를 잡으시겠습니까? Y/N :N\n",
            "현재 몬스터 수: 10 \n",
            "LEVEL UP!!\n",
            "몬스터를 잡으시겠습니까? Y/N :Y\n",
            "현재 몬스터 수: 11 \n",
            "몬스터를 잡으시겠습니까? Y/N :Y\n",
            "현재 몬스터 수: 12 \n",
            "몬스터를 잡으시겠습니까? Y/N :Y\n",
            "현재 몬스터 수: 13 \n"
          ]
        }
      ]
    },
    {
      "cell_type": "markdown",
      "source": [
        "###알아두면 쓸데있는 python문법\n"
      ],
      "metadata": {
        "id": "iYzicTiIbmsX"
      }
    },
    {
      "cell_type": "code",
      "source": [
        "#함수\n",
        "def add(a,b):\n",
        "  return a + b  #함수 정의"
      ],
      "metadata": {
        "id": "oxQ6sDxogIOR"
      },
      "execution_count": null,
      "outputs": []
    },
    {
      "cell_type": "code",
      "source": [
        "#함수 호출 반드시 해야됨.\n",
        "n1=3\n",
        "n2=4\n",
        "result = add(n1,n2)\n",
        "print(result)"
      ],
      "metadata": {
        "colab": {
          "base_uri": "https://localhost:8080/"
        },
        "id": "vcSl3fNIgQgi",
        "outputId": "69d89810-411e-49e7-bc64-1748b82a7066"
      },
      "execution_count": null,
      "outputs": [
        {
          "output_type": "stream",
          "name": "stdout",
          "text": [
            "7\n"
          ]
        }
      ]
    },
    {
      "cell_type": "code",
      "source": [
        "def add(a,b):\n",
        "  return a * b"
      ],
      "metadata": {
        "id": "FRwn3EhXghht"
      },
      "execution_count": null,
      "outputs": []
    },
    {
      "cell_type": "code",
      "source": [
        "n3=2\n",
        "n4=9\n",
        "result = add(n3,n4)\n",
        "print(result)"
      ],
      "metadata": {
        "colab": {
          "base_uri": "https://localhost:8080/"
        },
        "id": "-YeGXad8gul5",
        "outputId": "8f9aa197-108a-4472-b7d7-d78e9f6dc650"
      },
      "execution_count": null,
      "outputs": [
        {
          "output_type": "stream",
          "name": "stdout",
          "text": [
            "18\n"
          ]
        }
      ]
    },
    {
      "cell_type": "code",
      "source": [
        "def say():\n",
        "  print(\"Hi\")"
      ],
      "metadata": {
        "id": "l7yh9m9cg4CJ"
      },
      "execution_count": null,
      "outputs": []
    },
    {
      "cell_type": "code",
      "source": [
        "say()"
      ],
      "metadata": {
        "colab": {
          "base_uri": "https://localhost:8080/"
        },
        "id": "QfotVyqRhB7C",
        "outputId": "abf48d27-110b-4eb6-85c4-d02310094a10"
      },
      "execution_count": null,
      "outputs": [
        {
          "output_type": "stream",
          "name": "stdout",
          "text": [
            "Hi\n"
          ]
        }
      ]
    },
    {
      "cell_type": "markdown",
      "source": [
        "## 미션3\n",
        "\n",
        "카페 주문 프로그램 작성하기\n",
        "- 메뉴는 아메리카노(4100원), 카페라떼(4600원),바닐라라떼(5100원) 세 가지입니다. \n",
        "- 주문하실 메뉴 이름(order)을 입력합니다. \n",
        "- 조건문을 이용해서 메뉴에 맞는 금액(price)이 계산되도록 식을 만들어주세요. \n",
        "-  총 금액(total_price)을 구하는 식을 만들어주세요.\n",
        "- 투입한 금액(money)이 총 금액보다 크면 거스름돈(change)을 계산하고, 부족하면\n",
        "주문을 취소합니다.\n",
        "- 숫자 4를 입력하면 주문을 종료하며 반복문을 빠져 나옵니다.\n",
        "- 메뉴판에 없는 메뉴를 입력하면 잘못된 주문이라는 문구를 띄워주고 다시 메뉴판을 보여줍니다."
      ],
      "metadata": {
        "id": "8Ok58jsllAMG"
      }
    },
    {
      "cell_type": "code",
      "source": [
        "for i in range(10):\n",
        "  print('='* 70)\n",
        "  print(\"{아메리카노: 4100, 카페라떼: 4600, 바닐라라떼: 5100 }\")\n",
        "  print('='* 70)\n",
        "  order = input(\"커피 종류를 선택하세요. 4를 입력하면 주문이 종료됩니다. >>> \")\n",
        "  if order == '아메리카노':\n",
        "    count = input(\"몇 잔을 드릴까요?\")\n",
        "    result = 4100*int(count)\n",
        "    print(f\"총 금액은 {result}원 입니다.\")\n",
        "    cal= input(\"돈을 투여해주세요.>>> \") \n",
        "    if int(cal) < int(result):\n",
        "      print(\"돈이 부족합니다. 다시 돈을 투여해주세요.\")\n",
        "      cal= input(\"돈을 투여해주세요.>>> \") \n",
        "    else:\n",
        "      result2 = int(cal) - int(result)\n",
        "      print(f\"{cal}원을 받았습니다. 거스름돈은 {result2}원 입니다.\") \n",
        "\n",
        "  elif order == '카페라떼':\n",
        "    count = input(\"몇 잔을 드릴까요?\")\n",
        "    result3 = 4600*int(count)\n",
        "    print(f\"총 금액은 {result3}원 입니다.\")\n",
        "    cal= input(\"돈을 투여해주세요.>>> \") \n",
        "    if int(cal) < int(result3):\n",
        "      print(\"돈이 부족합니다. 다시 돈을 투여해주세요.\")\n",
        "      cal= input(\"돈을 투여해주세요. >>> \")\n",
        "    else:\n",
        "      result4 = int(cal) - int(result3)\n",
        "      print(f\"{cal}원을 받았습니다. 거스름돈은 {result4}원 입니다.\")\n",
        "\n",
        "  elif order == '바닐라라떼':\n",
        "    count = input(\"몇 잔을 드릴까요?\")\n",
        "    result5 = 5100*int(count)\n",
        "    print(f\"총 금액은 {result5}원 입니다.\")\n",
        "    cal= input(\"돈을 투여해주세요.>>> \")\n",
        "    if int(cal) < int(result5):\n",
        "      print(\"돈이 부족합니다. 다시 돈을 투여해주세요.\")\n",
        "      cal= input(\"돈을 투여해주세요. >>> \")\n",
        "    else:\n",
        "      result6 = int(cal) - int(result5)\n",
        "      print(f\"{cal}원을 받았습니다. 거스름돈은 {result6}원 입니다.\")\n",
        "  \n",
        "  elif order == '4':\n",
        "    print(\"주문이 종료되었습니다.\")\n",
        "    break\n",
        "\n",
        "  else :\n",
        "    print(\"다시 입력해 주세요. \")"
      ],
      "metadata": {
        "colab": {
          "base_uri": "https://localhost:8080/"
        },
        "id": "VDLMcgSzlkrK",
        "outputId": "f1120761-fff4-4f54-95ac-d94cf67a2ac5"
      },
      "execution_count": null,
      "outputs": [
        {
          "output_type": "stream",
          "name": "stdout",
          "text": [
            "======================================================================\n",
            "{아메리카노: 4100, 카페라떼: 4600, 바닐라라떼: 5100 }\n",
            "======================================================================\n",
            "커피 종류를 선택하세요. 4를 입력하면 주문이 종료됩니다. >>> 아메리카노\n",
            "몇 잔을 드릴까요?2\n",
            "총 금액은 8200원 입니다.\n",
            "돈을 투여해주세요.>>> 10000\n",
            "10000원을 받았습니다. 거스름돈은 1800원 입니다.\n",
            "======================================================================\n",
            "{아메리카노: 4100, 카페라떼: 4600, 바닐라라떼: 5100 }\n",
            "======================================================================\n",
            "커피 종류를 선택하세요. 4를 입력하면 주문이 종료됩니다. >>> 카페라떼\n",
            "몇 잔을 드릴까요?10\n",
            "총 금액은 46000원 입니다.\n",
            "돈을 투여해주세요.>>> 40000\n",
            "돈이 부족합니다. 다시 돈을 투여해주세요.\n",
            "돈을 투여해주세요. >>> 50000\n",
            "======================================================================\n",
            "{아메리카노: 4100, 카페라떼: 4600, 바닐라라떼: 5100 }\n",
            "======================================================================\n",
            "커피 종류를 선택하세요. 4를 입력하면 주문이 종료됩니다. >>> 커피요\n",
            "다시 입력해 주세요. \n",
            "======================================================================\n",
            "{아메리카노: 4100, 카페라떼: 4600, 바닐라라떼: 5100 }\n",
            "======================================================================\n",
            "커피 종류를 선택하세요. 4를 입력하면 주문이 종료됩니다. >>> 4\n",
            "주문이 종료되었습니다.\n"
          ]
        }
      ]
    },
    {
      "cell_type": "code",
      "source": [
        "# 선생님\n",
        "while True:  # 무한 반복\n",
        "  print(\"=\"*70)\n",
        "  menu = {\"아메리카노\":4100, \"카페라떼\": 4600, \"바닐라라떼\": 5100}  #딕셔너리로 만든 메뉴\n",
        "  print(menu)  #메뉴판 보여주기\n",
        "  print(\"=\"* 70)\n",
        "\n",
        "  # 커피 종류를 입력받습니다..\n",
        "  order = input(\"커피 종류를 선택하세요. 4를 입력하면 주문이 종료됩니다. >>> \")\n",
        "  \n",
        "  if order in menu:\n",
        "    #입력한 커피 가격을 price 변수에 넣어줍니다.\n",
        "    price = menu[order]\n",
        "\n",
        "    cups = int(input(\"몇 잔을 드릴까요? 잔 수 입력 >>> \"))\n",
        "    # 총 금액을 계산하고 total_price 변수에 넣어줍니다.\n",
        "    total_price = price * cups\n",
        "\n",
        "    money = int(input(f\"총 금액은 {total_price}원 입니다. 돈을 투입해주세요 >>> \"))\n",
        "    #총 금액보다 투입 금액이 큰 경우 거스름돈을 계산하고 출력합니다.\n",
        "    if money >= total_price:\n",
        "      change = money - total_price\n",
        "      print(f\"{money}원을 받았습니다. 거스름돈은 {change}원 입니다.\")\n",
        "\n",
        "      # 총 금액보다 작은 금액을 입력한 경우 주문을 취소합니다.\n",
        "    else:\n",
        "      print(\"금액이 부족합니다. 주문이 취소되었습니다.\")\n",
        "  \n",
        "  elif order == \"4\":\n",
        "    # 4를 입력하면 주문을 종룧고 반복문을 빠져나갑니다.\n",
        "    print(\"주문을 종료합니다.\")\n",
        "    # 반복문 빠져나가기\n",
        "    break\n",
        "\n",
        "  # 다른 숫자를 입력한 경우 \"잘못된 주문입니다\"를 출력합니다.\n",
        "  else:\n",
        "    print(\"잘못된 주문입니다.\")  "
      ],
      "metadata": {
        "colab": {
          "base_uri": "https://localhost:8080/"
        },
        "id": "szJMeETwL1oM",
        "outputId": "5795a215-8caf-48a2-a9e7-a1f0ba4e9b8b"
      },
      "execution_count": null,
      "outputs": [
        {
          "output_type": "stream",
          "name": "stdout",
          "text": [
            "======================================================================\n",
            "{'아메리카노': 4100, '카페라떼': 4600, '바닐라라떼': 5100}\n",
            "======================================================================\n",
            "커피 종류를 선택하세요. 4를 입력하면 주문이 종료됩니다. >>> 아메리카노\n",
            "몇 잔을 드릴까요? 잔 수 입력 >>> 2\n",
            "총 금액은 8200원 입니다. 돈을 투입해주세요 >>> 10000\n",
            "10000원을 받았습니다. 거스름돈은 1800원 입니다.\n",
            "======================================================================\n",
            "{'아메리카노': 4100, '카페라떼': 4600, '바닐라라떼': 5100}\n",
            "======================================================================\n",
            "커피 종류를 선택하세요. 4를 입력하면 주문이 종료됩니다. >>> 카페라떼\n",
            "몇 잔을 드릴까요? 잔 수 입력 >>> 3\n",
            "총 금액은 13800원 입니다. 돈을 투입해주세요 >>> 10000\n",
            "금액이 부족합니다. 주문이 취소되었습니다.\n",
            "======================================================================\n",
            "{'아메리카노': 4100, '카페라떼': 4600, '바닐라라떼': 5100}\n",
            "======================================================================\n",
            "커피 종류를 선택하세요. 4를 입력하면 주문이 종료됩니다. >>> 커피요\n",
            "잘못된 주문입니다.\n",
            "======================================================================\n",
            "{'아메리카노': 4100, '카페라떼': 4600, '바닐라라떼': 5100}\n",
            "======================================================================\n",
            "커피 종류를 선택하세요. 4를 입력하면 주문이 종료됩니다. >>> 4\n",
            "주문을 종료합니다.\n"
          ]
        }
      ]
    },
    {
      "cell_type": "markdown",
      "source": [],
      "metadata": {
        "id": "HN-VzBY-gip8"
      }
    }
  ]
}